{
 "cells": [
  {
   "cell_type": "code",
   "execution_count": null,
   "id": "5b0aabbd-f113-4878-a0a7-33ddc8798324",
   "metadata": {},
   "outputs": [],
   "source": [
    "Q1\n",
    "database is a organised collection of structured or non-structured data stored in a computer eletronically.\n",
    "SQL - structured Query language . data is in a structured way. example - mySQL,MSSQL,Oracle\n",
    "\n",
    "NOSQL - NOT ONLY STRUCTURED QUERY LANGUAGE . In this language we can store images as well in a database.\n",
    "example - MongoDb"
   ]
  },
  {
   "cell_type": "code",
   "execution_count": null,
   "id": "6c2f6df7-55bb-42c1-9b0e-859bbdb323f5",
   "metadata": {},
   "outputs": [],
   "source": [
    "Q2\n",
    "DDl - stands for Data Defination Language.\n",
    "DDl is a computer language which helps us to create and modify the structure of database in database.\n",
    "\n",
    "CREATE - is used to create an database or a table\n",
    "example - CREATE DATABASE Mydata; #database creation\n",
    "          CREATE TABLE Mydata.mydata_table(); #table breation in database mydata\n",
    "    \n",
    "DROP - is used to delete databese or a table.\n",
    "example - DROP Mydata.mydata_table; #table mydata_table will be deleted present in a Mydata.\n",
    "\n",
    "ALERT TABLE - Is used to ADD , delete and modify columns the existing table.\n",
    "ALTER TABLE table_name\n",
    "ADD column_name datatype;\n",
    "\n",
    "TRUNCATE TABLE - command deletes the data inside a table, but not the table itself.\n",
    "example- TRUNCATE TABLE mydata_table;"
   ]
  },
  {
   "cell_type": "code",
   "execution_count": null,
   "id": "d69cf6dd-b393-4e47-9b22-a5f6ec397dc6",
   "metadata": {},
   "outputs": [],
   "source": [
    "Q3\n",
    "DML-Data Manupulation Language. DML reperesents a programming language neede to make changes in a database.\n",
    "\n",
    "INSERT - used to insert values in a table.\n",
    "example - insert values(\"srishti\",23,\"Kolkata\")\n",
    "\n",
    "UPDATE - used modify the existing table or make changes in a table.\n",
    "UPDATE mydata_table\n",
    "SET C1 = 23\n",
    "WHERE C2 = \"kolkata\";\n",
    "\n",
    "DELETE - used to delete a row in a table with a specific condition.\n",
    "DELETE C1 WHERE C2=\"kolkata\";\n"
   ]
  },
  {
   "cell_type": "code",
   "execution_count": null,
   "id": "d29b49e5-b8e5-4015-bb5e-12ccb7b5ed66",
   "metadata": {},
   "outputs": [],
   "source": [
    "Q4\n",
    "DQL - stands for Data Query Lanaguage. DQL is a portion of a SQL \n",
    "statement that allows you to get and organise data from a database.\n",
    "\n",
    "Select * from mydata_table where C1>23; #this will print all the rows whose C1 values is greater then 23."
   ]
  },
  {
   "cell_type": "code",
   "execution_count": null,
   "id": "2ad79637-2583-4a4d-95e5-43b1966e1d0b",
   "metadata": {},
   "outputs": [],
   "source": [
    "Q5\n",
    "Primary key is a Unique key and has always as a unique value in all rows of a table. This key cannot be Null.\n",
    "example- create table mydata_table(\n",
    "               reg_id int PRIMARY KEY;\n",
    "                )\n",
    "\n",
    "foreign key is used to etablish a link between two tables.\n",
    "CREATE TABLE order(\n",
    "    orderid int primary key\n",
    "    orderid FOREIGN KEY REFRENCES mydata_table(reg_id);\n",
    ")"
   ]
  },
  {
   "cell_type": "code",
   "execution_count": null,
   "id": "99147382-c2a0-4831-8bc5-fd0f1f1b7fb6",
   "metadata": {},
   "outputs": [],
   "source": [
    "#Q6\n",
    "import mysql.connector\n",
    "mydb = mysql.connector.connect(\n",
    "    host=\"localhost\",\n",
    "    user=\"abc\",\n",
    "    password=\"password\"\n",
    ")\n",
    "print(mydb)\n",
    "mycursor = mydb.cursor()\n",
    "mycursor = mydb.excecute(\"SHOW DATABASE\")\n",
    "for x in mycursor:\n",
    "    print(x)\n"
   ]
  },
  {
   "cell_type": "code",
   "execution_count": null,
   "id": "1962876a-1b68-4341-b904-4cd4dc9a61c3",
   "metadata": {},
   "outputs": [],
   "source": [
    "#Q7\n",
    "from\n",
    "where\n",
    "group by\n",
    "having\n",
    "select\n",
    "oeder by\n",
    "limit"
   ]
  }
 ],
 "metadata": {
  "kernelspec": {
   "display_name": "Python 3 (ipykernel)",
   "language": "python",
   "name": "python3"
  },
  "language_info": {
   "codemirror_mode": {
    "name": "ipython",
    "version": 3
   },
   "file_extension": ".py",
   "mimetype": "text/x-python",
   "name": "python",
   "nbconvert_exporter": "python",
   "pygments_lexer": "ipython3",
   "version": "3.10.8"
  }
 },
 "nbformat": 4,
 "nbformat_minor": 5
}
